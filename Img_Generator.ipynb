{
 "cells": [
  {
   "cell_type": "markdown",
   "metadata": {
    "id": "xC5SKZEYxSwr"
   },
   "source": [
    "# **Text - TO - Text - IMG - Generator**"
   ]
  },
  {
   "cell_type": "markdown",
   "metadata": {
    "id": "hu8NU8sqwxi1"
   },
   "source": [
    "## **Tools you will Use**\n",
    "Model: Stable Diffusion (v1.5 or SDXL)\n",
    "\n",
    "Backend: Python (with diffusers, transformers, torch)\n",
    "\n",
    "Frontend (optional):  Gradio\n",
    "\n",
    "Platform: Google Colab (for free GPU) or your local machine (with GPU)"
   ]
  },
  {
   "cell_type": "markdown",
   "metadata": {
    "id": "eR02g6JAx5AQ"
   },
   "source": [
    "## **Step 1: Setup Google Colab or Your Local Environment**"
   ]
  },
  {
   "cell_type": "code",
   "execution_count": null,
   "metadata": {
    "colab": {
     "base_uri": "https://localhost:8080/"
    },
    "executionInfo": {
     "elapsed": 112805,
     "status": "ok",
     "timestamp": 1752087613809,
     "user": {
      "displayName": "Faisal Mohib",
      "userId": "01978944625578595997"
     },
     "user_tz": -300
    },
    "id": "U6KSK6Kah1JV",
    "outputId": "497caa7e-584d-40d3-aa07-e6d51ee17f3e"
   },
   "outputs": [],
   "source": [
    "!pip install diffusers transformers accelerate scipy safetensors\n"
   ]
  },
  {
   "cell_type": "markdown",
   "metadata": {
    "id": "AHWzMmuGyCXO"
   },
   "source": [
    "## **Step 2: Load the Pretrained Stable Diffusion Model**"
   ]
  },
  {
   "cell_type": "code",
   "execution_count": null,
   "metadata": {
    "colab": {
     "base_uri": "https://localhost:8080/",
     "height": 685,
     "referenced_widgets": [
      "df48236fee8046ada55d42d3dff04981",
      "fa32b5885a4f4597b1ac0d9c0d8438cf",
      "668af97a7b1945c7851eb05d08fab4df",
      "5e0fb1dc4b2946e39ac8e8b58c2f5a46",
      "38d934c52b974c74a5af714f86d51f8b",
      "7e1c5ae3d4d94cc1baa1791df39d8e58",
      "1bc7de0e5f354cf1a7035686f7128040",
      "45001eefcc474fb9a6181f37b378e161",
      "ef4b06acd0214c198c4e428affc87813",
      "1845710e3a9f4a4c95066aa0505244c2",
      "1bc4e8c30e1f4514bf815b40884d0de3",
      "4656cb875e274a9aaff990706b8d5270",
      "4da28d3f410248b2a95fd2b7f0aa1a82",
      "e0ab4b5dda134994ba79f5944a497c1f",
      "cded2dd0a83c42c4b79bd6f100c23b23",
      "76fabfa335bc406b96b45e647d3fac1e",
      "888449935b5c4594bc9182922023f6ff",
      "6a024f5ad8f740749f8cbab4e7122076",
      "47357710d35d4f2c96a141198e9b71cf",
      "a399c751306b4ac3b23cdf80e7c5adc7",
      "404df6903c564f83926fe4fbccc41316",
      "fe193b0583bb43e0975d1dbf4b1b9aef",
      "f47e5e19cebc48e085e151b67bcb4516",
      "ac8e1332299f4b60a030234321079c6b",
      "8e8b3a4cf46942f28846abf1bf46f3c7",
      "9540cc52131049909456741142970d89",
      "66d3688e118a4169b7302933e0013709",
      "84ac36ac2aa24b0ea17724c5af652bb5",
      "80475e6346f14fea90e543567424c2c7",
      "2e11d2868fc946869a9f7ebbf0e97f9d",
      "d32f930b645e468b9f2dc496af3679d2",
      "25707541a3c54123b1d810acbc7a66d4",
      "189446e6ce8e4a50b20f9993646aa289",
      "51c8e6498bdb49d8beedd8a76aeb37ea",
      "485bcce9cd64456baee518ac425c2b9f",
      "c94d86c46c8d4fdebede92247507f2a2",
      "0d84a615c69e4ea0a6100691430de0e9",
      "fd8d52ad886948188992d095ffd6549a",
      "e8a5112e2b6e464c8ab77aa99cf7ddc5",
      "bdeed0e959314d7b97ae68c6bde85a0a",
      "89367b61a6994dd8aa196a414c71893c",
      "3d984d4c82b04c9cb736a5a3f521dedf",
      "3cac91f3e2a74d81b0f216b3e9a7a40d",
      "a46d6851faf144aa80e8c9ee4daaa7a3",
      "93b788e1005d4cf3a600821c43e947c1",
      "315eb72fd80f4134a66a8cf1cc4b664f",
      "3bf943ae0e6d45918288a7435672b6ec",
      "d412697a53784eef8ad2c64f96800608",
      "1442bed3223b474c9fa18a506c78283e",
      "f025df8fe7e54095bf0eabbd54c8037a",
      "7329329c12c3402cae3042b7fc2322b0",
      "7c19c7d8aca043aa9f60148d36b871dd",
      "117b75cd37ff4e8487e8a543df68c2b9",
      "32d23f8bde2749eeaf93f9e788a6e9f6",
      "a5fc49c1986e4fd6a9e290fe418bc370",
      "9d42e896ae6a47ce846ef9ca173b5bf1",
      "afaea7ada89b42cdb49b071ecd1581a0",
      "bb11c758586d4683a9aeb4000703b317",
      "cbcb7b164f9c47c9a6a4217524bce167",
      "30ab7bc30b4841e0877da177b386b9ce",
      "ec86c7332ceb4d6481f633970ddbc960",
      "291365182ddf42b683f9d6c811df8d07",
      "fc28030bc4204ed7af3c8f71cc0dae4b",
      "1113b20b11d64b24a7ef027c1ad67aa4",
      "7bc078b327c2477eb390906eb67ea201",
      "098bad7e2e514408895400b1e4cfc4b5",
      "8058c27f5bd048a3963b05a7ee977465",
      "5bfc9a92123f4ea084a58c8c3eaa28a5",
      "f0a88cc1ac1242fe93d47c90ea7c62db",
      "e9c36a6bb4a644f1be7b2a9770ecdd2a",
      "b1b2441c9f9a4781bce7aa33338bd60d",
      "075a66a861154d6580e929ccd62ce35f",
      "4589dfc590f04c6da7f44e52fa810852",
      "249bd1c4418746c4a5bd77413f42c014",
      "ab5561912e1d4052934b4e42981d3170",
      "980c3bd922f74dcf98ca13e27ceb2a70",
      "ad2b2655aec74cf18db2cea2806a3326",
      "5336ee37bd3d4b9e821c96237e9c5d34",
      "751410c328c7438cbb4eb63418dd8cdc",
      "7182234bd31b4488a8938eca51d9f20f",
      "60e80ff9a3224f8fa614cfc816eb52f6",
      "069ee68b25d94fbeb9c8ab80c4358059",
      "6a006da1a14d4900baa1ae31232f0e82",
      "f52537dee806453e8a3b1ca3ebae987b",
      "931d61d341f5429588952543aceab680",
      "566e69f9c9104ba2bce88ae88793f7ce",
      "8749de964fcd4664a64c5ff4779b8610",
      "469e48e45986497c892ab37421010909",
      "bb65037f7e2a42ae93a72e91245be6f9",
      "e82085d5c62744a89ea6f1092224588c",
      "eca1d4f6efec479ea24f39f2f5d8087b",
      "99e2b7c10a4044a69a4d6b65258f9fe9",
      "b46f84c9fc0e45e8a5e0458336117794",
      "bab252679ba24607b8261139e4b7ea1b",
      "12c147e894824aadaea39586fd548a6c",
      "ff4c09e15da24d64b0f513baf42684ca",
      "5f55d60d99cf4e7bb3f42aaef8f86ff2",
      "1dc7ecec3c0145fba5e8d5fc94ec6f5a",
      "f9edd9157903456f9ed71d5adbddca51",
      "ad6247b9306343298d531f76f92445f7",
      "0d39abab75e0449d8375c9463afa88ba",
      "1e49b650a9ac4b2391fba847b9ee014a",
      "e95c03de999f4279a723767c321c104a",
      "40d56225599848329937acfb94a721dc",
      "288b90fb76fd4ed7a30a91e42ba8e5b2",
      "08ff1ba796064157881a8b2da18bdbe2",
      "376340477b1040508f7063caf4e923d3",
      "1c55658be01f489e803be60767ee703b",
      "846bf84e20f94d798d6342d5dc7a7fd5",
      "f94754d611ea4d968442d2a9548fcde0",
      "e63b5987a8bd404eaa6c9b96cf2be5d5",
      "0ab56075e61a490baa19951a08a7ef75",
      "ad2c2559310a4587b40cbafdf63f2e9e",
      "9d011ae7527a4b02ace4a9a1c3c161a3",
      "43bd358f099741b09a1a309bfc1630ae",
      "7ef6051299da447596ae4f3afc44f74b",
      "e1aa223d0c824b9ebfc32653f7005c52",
      "1165b54fed624e3f90577582b4c5558b",
      "0ae71009271b4a9abc68235994f2388f",
      "042e166ad69043d9947b5c6600d3043f",
      "7aacb0367568480bbafa49bb4c17fa73",
      "f8a45856fc0a4742aa5e3b3413798d4c",
      "4aa5917cd12748aa81d12a4c10684d74",
      "191c22f40a7a4100bc006c1600e88045",
      "891a7858a5704b57af8605f84b07fa81",
      "0b89b973f684490f833906ac6ffde9c3",
      "f0bd50c77fd14aed9ff565404b1e62a5",
      "35ad6187bd12497990a8127f856d4bfb",
      "caa053ce9b304d90a5391ac4accd5f4f",
      "caf13350b8964bedbc6c091bf9cd210a",
      "afbe67af8ece4b91acea0ad4f986b510",
      "53ce1817842342e48f8af2b0a955aa6a",
      "9ea88e3ab20f409eb40e3b0b38780242",
      "aa909e1398ec48a6a9e90b0bc92f2412",
      "5a81c22745b84d19876ee614a5313c75",
      "e6e0a15150774b3386e81e823a6e5a22",
      "67ce6973146a4e2690125f1acf59182b",
      "c9502c6eb8f14f79848d4d47b379643a",
      "f2f5142e870748fba91fbfc550cd67da",
      "9be586acac074d72a0a5a1a783584b1f",
      "ac19757168ba44e8a16c52a8ae2db062",
      "771e3988b854407cbdfd0cd2c556ba13",
      "f4e90853c1e141acbd4e3779f7d3bb61",
      "50234672534349b38545f884f060ef36",
      "96d9dc99c1cd4c29ac1ad0e4a574bf57",
      "eef982e7ada8491788582367dd83e934",
      "07e8aad28e3e4d95a8e03723df6c3657",
      "f34b9fa141ab4f2890348b9c43bea619",
      "370cb09c40be411fa0b74f30e72b45e4",
      "5102f78281764b039352d051bdd38be4",
      "c1ae6e6e8acb43f89c4c5bcef1d98ba4",
      "9c8c915cd2b144948a2d68d0d3185024",
      "64e224f2316d4f0a868b29cbf436dff8",
      "34bb6ec77dfc45989e59b1b289380993",
      "58046915c76941d598dec2b6d6c2d639",
      "660adeceab5b43138eeb906df5277558",
      "e77377dab8864e998acc4bfefc94f50e",
      "aca8774febc44b0c9802511daf67716f",
      "009987bb01d4481b83b8905f1d557635",
      "9645b50819774dab91ae8cdff218c908",
      "8b7e2ef2d5b84ed693d23397246f8f37",
      "9496816309d44b7db33b68ae22c57c6e",
      "1328c26823fa4b23b04405365e835ab0",
      "86ad84cea0b344e3b8ce8db7ecef1d8e",
      "f48b0d6607d044a7b1d988293065260c",
      "d7f468a60421437ea33eba6b5c69410d",
      "7423aca3ce7442e6a0f5d1ad5be7635d",
      "498d67eb965943c6902945849ffb3ee9",
      "0d4e3e2a88ce45bd96d02649cbf5a341",
      "5a019c62741344dda43d5499e3ef9e74",
      "19804a7709254bbdb726a7d2659e9c93",
      "5a4cdcc512b14918ac88d7bd97e6ec72",
      "fc77043e7643467db5d8b41378e24702",
      "9c616019ee2e4d9db94c875b8b66c9ab",
      "934712920e344c2eb8ea3b7c513c43b0",
      "802e6cfd06434d14ad06030e8478527e",
      "499cfafdf22740ffa4505d89535354a3",
      "5bc485a5275d451aab6404bb543d8ea5",
      "5ff71d89d6e940af970f898feb7f1dbe",
      "294a47f0c0cb430f89a380042adabfe1",
      "61814a968a584985bf2cbfcc8289725f",
      "8bc31bced09a4fb39da4474f998faf55",
      "b6fb4e00c63440dd896beced13cb82cc",
      "f3a013b240f34e6184a0389b95cb1dbc",
      "20a2eb6a46834ece94576239f042f5c6",
      "053f6082dcce4f4fa036a6c39eb042d7",
      "4084298960244b598c3c6b66c307e605"
     ]
    },
    "executionInfo": {
     "elapsed": 108142,
     "status": "ok",
     "timestamp": 1752087755015,
     "user": {
      "displayName": "Faisal Mohib",
      "userId": "01978944625578595997"
     },
     "user_tz": -300
    },
    "id": "U_2tAG2Oh8XN",
    "outputId": "3227b4bd-3d2b-4066-ce80-bd498cf96e66"
   },
   "outputs": [],
   "source": [
    "from diffusers import StableDiffusionPipeline\n",
    "import torch\n",
    "\n",
    "pipe = StableDiffusionPipeline.from_pretrained(\n",
    "    \"runwayml/stable-diffusion-v1-5\",\n",
    "    torch_dtype=torch.float16\n",
    ").to(\"cuda\")\n",
    "\n"
   ]
  },
  {
   "cell_type": "markdown",
   "metadata": {
    "id": "wDIdz-bXyLfj"
   },
   "source": [
    "## **Step 3: Generate image**"
   ]
  },
  {
   "cell_type": "code",
   "execution_count": null,
   "metadata": {
    "colab": {
     "base_uri": "https://localhost:8080/",
     "height": 49,
     "referenced_widgets": [
      "2c50a12037f74a27abd2dcf2377266b3",
      "863dde3c5b3c48c18354fd7bc5e410bd",
      "a2a4f20ac3644503bea92258a766f5bf",
      "258a086262c949af96b8bce888a2cbbc",
      "a5d7234e8d2f465dae075f03190ac9f6",
      "f7f8492457ed43b68dc2aad1cc68e505",
      "39cc4423a7c14815b2de54da77d4c96b",
      "d62f4d472efb4014b9a62ef9706a1b31",
      "458e2f48e36f4ec684d1394226a455b3",
      "8185bb855cae48109f4293ff7968e73e",
      "ae3c5554536248869efbb0723655c540"
     ]
    },
    "executionInfo": {
     "elapsed": 27387,
     "status": "ok",
     "timestamp": 1752089196681,
     "user": {
      "displayName": "Faisal Mohib",
      "userId": "01978944625578595997"
     },
     "user_tz": -300
    },
    "id": "hdyXucSmidCG",
    "outputId": "7403b96c-5ac2-49cf-9a05-f8849fe5ed12"
   },
   "outputs": [],
   "source": [
    "prompt = \"A person sits on top of a hill looking at a glowing futuristic city at night\"\n",
    "image = pipe(prompt).images[0]\n"
   ]
  },
  {
   "cell_type": "markdown",
   "metadata": {
    "id": "EB0zKzHPytnf"
   },
   "source": [
    "## **Step 4: Generate image**"
   ]
  },
  {
   "cell_type": "code",
   "execution_count": null,
   "metadata": {
    "executionInfo": {
     "elapsed": 159,
     "status": "ok",
     "timestamp": 1752089205495,
     "user": {
      "displayName": "Faisal Mohib",
      "userId": "01978944625578595997"
     },
     "user_tz": -300
    },
    "id": "jv6D2Fy_isKi"
   },
   "outputs": [],
   "source": [
    "image.show()"
   ]
  },
  {
   "cell_type": "markdown",
   "metadata": {
    "id": "xqHJOLPRy1HE"
   },
   "source": [
    "## **Step 5: Use Gradio for Web Interface**"
   ]
  },
  {
   "cell_type": "code",
   "execution_count": null,
   "metadata": {
    "colab": {
     "base_uri": "https://localhost:8080/",
     "height": 645
    },
    "executionInfo": {
     "elapsed": 712,
     "status": "ok",
     "timestamp": 1752089209322,
     "user": {
      "displayName": "Faisal Mohib",
      "userId": "01978944625578595997"
     },
     "user_tz": -300
    },
    "id": "10GKMwAuitwf",
    "outputId": "b6c577bc-5272-4ad1-a8d8-c5181a664b60"
   },
   "outputs": [],
   "source": [
    "import gradio as gr\n",
    "\n",
    "def generate_image(prompt):\n",
    "    image = pipe(prompt).images[0]\n",
    "    return image\n",
    "\n",
    "gr.Interface(fn=generate_image, inputs=\"text\", outputs=\"image\").launch()\n"
   ]
  }
 ],
 "metadata": {
  "accelerator": "GPU",
  "colab": {
   "authorship_tag": "ABX9TyNkWG8dIrcFTV/hmU6RPbS3",
   "gpuType": "T4",
   "provenance": []
  },
  "kernelspec": {
   "display_name": "Python 3",
   "name": "python3"
  },
  "language_info": {
   "name": "python"
  }
 },
 "nbformat": 4,
 "nbformat_minor": 0
}
